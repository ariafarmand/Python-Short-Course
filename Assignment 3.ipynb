{
 "cells": [
  {
   "cell_type": "code",
   "execution_count": 21,
   "metadata": {
    "collapsed": true
   },
   "outputs": [],
   "source": [
    "import pandas as pd\n",
    "import json\n",
    "import re\n",
    "import simplejson"
   ]
  },
  {
   "cell_type": "code",
   "execution_count": 7,
   "metadata": {
    "collapsed": false
   },
   "outputs": [],
   "source": [
    "#(\"C:/Users/Aria/Documents/Repos/Pratik/data/test.20160304-112209.json\")\n",
    "\n",
    "file_sample_json = open(\"C:/Users/Aria/Documents/Repos/Pratik/data/test.20160304-112209.json\", 'r')\n",
    "handler = []\n",
    "\n",
    "for line in file_sample_json:\n",
    "    if \"@\" in line:\n",
    "        string = line\n",
    "        match = re.findall(\".*?@(\\w+).*?\",string)\n",
    "        if match is not None:\n",
    "            for element in match:\n",
    "                parts = element.split(',')\n",
    "                for item in parts:\n",
    "                    lowerparts = item.lower()\n",
    "                    if lowerparts not in handler:\n",
    "                        handler.append(lowerparts)\n",
    "                    \n",
    "file_sample_json.close()\n",
    "\n",
    "with open('C:/Users/Aria/Documents/Repos/Python-Short-Course/twitter_list.txt','w') as thefile:\n",
    "    for item in handler:\n",
    "        thefile.write(\"%s\\n\" % item)\n",
    "thefile.close()\n"
   ]
  }
 ],
 "metadata": {
  "kernelspec": {
   "display_name": "Python 2",
   "language": "python",
   "name": "python2"
  },
  "language_info": {
   "codemirror_mode": {
    "name": "ipython",
    "version": 2
   },
   "file_extension": ".py",
   "mimetype": "text/x-python",
   "name": "python",
   "nbconvert_exporter": "python",
   "pygments_lexer": "ipython2",
   "version": "2.7.11"
  }
 },
 "nbformat": 4,
 "nbformat_minor": 0
}
