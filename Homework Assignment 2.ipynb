{
 "cells": [
  {
   "cell_type": "markdown",
   "metadata": {},
   "source": [
    "Python Short Course -- Winter 2016\n",
    "\n",
    "---\n",
    "Aria Farmand\n",
    "\n",
    "Homework Assignment 2"
   ]
  },
  {
   "cell_type": "code",
   "execution_count": 1,
   "metadata": {
    "collapsed": true
   },
   "outputs": [],
   "source": [
    "import pandas as pd\n",
    "import numpy as np\n",
    "%matplotlib inline\n",
    "import matplotlib.pyplot as plt\n",
    "import seaborn as sns"
   ]
  },
  {
   "cell_type": "code",
   "execution_count": 2,
   "metadata": {
    "collapsed": false
   },
   "outputs": [],
   "source": [
    "df_salary=pd.read_csv('C:/Users/Aria/Documents/Repos/Pratik/data/salary_data.csv')"
   ]
  },
  {
   "cell_type": "code",
   "execution_count": 3,
   "metadata": {
    "collapsed": false
   },
   "outputs": [
    {
     "data": {
      "text/html": [
       "<div>\n",
       "<table border=\"1\" class=\"dataframe\">\n",
       "  <thead>\n",
       "    <tr style=\"text-align: right;\">\n",
       "      <th></th>\n",
       "      <th>team</th>\n",
       "      <th>year</th>\n",
       "      <th>player</th>\n",
       "      <th>contract_years_remaining</th>\n",
       "      <th>contract_thru</th>\n",
       "      <th>position</th>\n",
       "      <th>full_name</th>\n",
       "      <th>salary_year</th>\n",
       "      <th>salary_total</th>\n",
       "      <th>year_counter</th>\n",
       "      <th>obs</th>\n",
       "      <th>mean_salary</th>\n",
       "      <th>mean_remaining</th>\n",
       "    </tr>\n",
       "  </thead>\n",
       "  <tbody>\n",
       "    <tr>\n",
       "      <th>0</th>\n",
       "      <td>Boston Celtics</td>\n",
       "      <td>2002-03</td>\n",
       "      <td>Bremer, J.R.</td>\n",
       "      <td>1</td>\n",
       "      <td>2002-03</td>\n",
       "      <td>G</td>\n",
       "      <td>Bremer</td>\n",
       "      <td>349458</td>\n",
       "      <td>349458</td>\n",
       "      <td>1</td>\n",
       "      <td>2</td>\n",
       "      <td>456568.5</td>\n",
       "      <td>1</td>\n",
       "    </tr>\n",
       "    <tr>\n",
       "      <th>1</th>\n",
       "      <td>Cleveland Cavaliers</td>\n",
       "      <td>2003-04</td>\n",
       "      <td>Bremer, J.R.</td>\n",
       "      <td>1</td>\n",
       "      <td>2003-04</td>\n",
       "      <td>G</td>\n",
       "      <td>Bremer</td>\n",
       "      <td>563679</td>\n",
       "      <td>563679</td>\n",
       "      <td>2</td>\n",
       "      <td>2</td>\n",
       "      <td>456568.5</td>\n",
       "      <td>1</td>\n",
       "    </tr>\n",
       "    <tr>\n",
       "      <th>2</th>\n",
       "      <td>Charlotte Hornets</td>\n",
       "      <td>2001-02</td>\n",
       "      <td>Brown, P.J.</td>\n",
       "      <td>7</td>\n",
       "      <td>2002-03</td>\n",
       "      <td>F</td>\n",
       "      <td>Brown</td>\n",
       "      <td>6404800</td>\n",
       "      <td>36000000</td>\n",
       "      <td>1</td>\n",
       "      <td>6</td>\n",
       "      <td>7668267</td>\n",
       "      <td>5</td>\n",
       "    </tr>\n",
       "    <tr>\n",
       "      <th>3</th>\n",
       "      <td>New Orleans Hornets</td>\n",
       "      <td>2002-03</td>\n",
       "      <td>Brown, P.J.</td>\n",
       "      <td>7</td>\n",
       "      <td>2002-03</td>\n",
       "      <td>F</td>\n",
       "      <td>Brown</td>\n",
       "      <td>7044800</td>\n",
       "      <td>36000000</td>\n",
       "      <td>2</td>\n",
       "      <td>6</td>\n",
       "      <td>7668267</td>\n",
       "      <td>5</td>\n",
       "    </tr>\n",
       "    <tr>\n",
       "      <th>4</th>\n",
       "      <td>New Orleans Hornets</td>\n",
       "      <td>2003-04</td>\n",
       "      <td>Brown, P.J.</td>\n",
       "      <td>4</td>\n",
       "      <td>2006-07</td>\n",
       "      <td>F</td>\n",
       "      <td>Brown</td>\n",
       "      <td>8000000</td>\n",
       "      <td>34000000</td>\n",
       "      <td>3</td>\n",
       "      <td>6</td>\n",
       "      <td>7668267</td>\n",
       "      <td>5</td>\n",
       "    </tr>\n",
       "  </tbody>\n",
       "</table>\n",
       "</div>"
      ],
      "text/plain": [
       "                  team     year        player contract_years_remaining  \\\n",
       "0       Boston Celtics  2002-03  Bremer, J.R.                        1   \n",
       "1  Cleveland Cavaliers  2003-04  Bremer, J.R.                        1   \n",
       "2    Charlotte Hornets  2001-02   Brown, P.J.                        7   \n",
       "3  New Orleans Hornets  2002-03   Brown, P.J.                        7   \n",
       "4  New Orleans Hornets  2003-04   Brown, P.J.                        4   \n",
       "\n",
       "  contract_thru position full_name salary_year salary_total year_counter obs  \\\n",
       "0       2002-03        G    Bremer      349458       349458            1   2   \n",
       "1       2003-04        G    Bremer      563679       563679            2   2   \n",
       "2       2002-03        F     Brown     6404800     36000000            1   6   \n",
       "3       2002-03        F     Brown     7044800     36000000            2   6   \n",
       "4       2006-07        F     Brown     8000000     34000000            3   6   \n",
       "\n",
       "  mean_salary mean_remaining  \n",
       "0    456568.5              1  \n",
       "1    456568.5              1  \n",
       "2     7668267              5  \n",
       "3     7668267              5  \n",
       "4     7668267              5  "
      ]
     },
     "execution_count": 3,
     "metadata": {},
     "output_type": "execute_result"
    }
   ],
   "source": [
    "df_salary.head()"
   ]
  },
  {
   "cell_type": "markdown",
   "metadata": {},
   "source": [
    "A) Create a Class SportsFigure, which has the attributes-\n",
    "1. name\n",
    "2. mean_salary\n",
    "3. team\n",
    "4. position"
   ]
  },
  {
   "cell_type": "markdown",
   "metadata": {},
   "source": [
    "B) The Class should also consist of functions which allow you to-\n",
    "1. An init function that sets the attributes upon object creation\n",
    "2. An output function that prints the attributes on screen"
   ]
  },
  {
   "cell_type": "markdown",
   "metadata": {},
   "source": [
    "C) You should be able to create an object for each player from the salary data file."
   ]
  },
  {
   "cell_type": "code",
   "execution_count": 4,
   "metadata": {
    "collapsed": false
   },
   "outputs": [
    {
     "data": {
      "text/plain": [
       "('Name:',\n",
       " 'Brown, P.J.',\n",
       " 'Mean Salary:',\n",
       " 7668267,\n",
       " 'Team:',\n",
       " 'New Orleans Hornets',\n",
       " 'Position:',\n",
       " 'F')"
      ]
     },
     "execution_count": 4,
     "metadata": {},
     "output_type": "execute_result"
    }
   ],
   "source": [
    "class SportsFigure:\n",
    "    def __init__(self,player,mean_salary,team,position):\n",
    "        self.player=player\n",
    "        self.mean_salary=mean_salary\n",
    "        self.team=team\n",
    "        self.position=position\n",
    "    def displayplayer(self):\n",
    "        return self.player\n",
    "    def displaymeansalary(self):\n",
    "        return self.mean\n",
    "    def displayteam(self):\n",
    "        return self.team\n",
    "    def displayposition(self):\n",
    "        return self.position\n",
    "    def displaySportsFigure(self):\n",
    "        return 'Name:' , self.player, 'Mean Salary:' , self.mean_salary, 'Team:' , self.team, 'Position:' , self.position\n",
    "    @classmethod\n",
    "    def teams_start_with (cls,startswith)\n",
    "    return [t for t in cls.SportsFigure if t.startswith(startswith)]\n",
    "\n",
    "pj_brown=SportsFigure(\"Brown, P.J.\", 7668267, \"New Orleans Hornets\", \"F\" )\n",
    "pj_brown.displaySportsFigure()\n",
    "\n",
    "\n"
   ]
  },
  {
   "cell_type": "code",
   "execution_count": 5,
   "metadata": {
    "collapsed": false
   },
   "outputs": [
    {
     "data": {
      "text/plain": [
       "'Brown, P.J.'"
      ]
     },
     "execution_count": 5,
     "metadata": {},
     "output_type": "execute_result"
    }
   ],
   "source": [
    "pj_brown.displayplayer()"
   ]
  },
  {
   "cell_type": "code",
   "execution_count": 6,
   "metadata": {
    "collapsed": false
   },
   "outputs": [
    {
     "data": {
      "text/plain": [
       "'New Orleans Hornets'"
      ]
     },
     "execution_count": 6,
     "metadata": {},
     "output_type": "execute_result"
    }
   ],
   "source": [
    "pj_brown.displayteam()"
   ]
  }
 ],
 "metadata": {
  "kernelspec": {
   "display_name": "Python 2",
   "language": "python",
   "name": "python2"
  },
  "language_info": {
   "codemirror_mode": {
    "name": "ipython",
    "version": 2
   },
   "file_extension": ".py",
   "mimetype": "text/x-python",
   "name": "python",
   "nbconvert_exporter": "python",
   "pygments_lexer": "ipython2",
   "version": "2.7.11"
  }
 },
 "nbformat": 4,
 "nbformat_minor": 0
}
